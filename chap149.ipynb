{
 "cells": [
  {
   "cell_type": "code",
   "execution_count": 63,
   "metadata": {},
   "outputs": [],
   "source": [
    "import numpy as np\n",
    "import cv2"
   ]
  },
  {
   "cell_type": "code",
   "execution_count": 64,
   "metadata": {},
   "outputs": [],
   "source": [
    "img = cv2.imread('hand.jpg')\n",
    "imgray = cv2.cvtColor(img,cv2.COLOR_BGR2GRAY)\n",
    "imgray = 255-imgray"
   ]
  },
  {
   "cell_type": "code",
   "execution_count": 65,
   "metadata": {},
   "outputs": [],
   "source": [
    "cv2.imshow('image',img)\n",
    "cv2.imshow('imgray',imgray)\n",
    "cv2.waitKey(0)\n",
    "cv2.destroyAllWindows()"
   ]
  },
  {
   "cell_type": "code",
   "execution_count": 66,
   "metadata": {},
   "outputs": [],
   "source": [
    "ret,thresh = cv2.threshold(imgray,8,255,cv2.THRESH_BINARY)"
   ]
  },
  {
   "cell_type": "code",
   "execution_count": 67,
   "metadata": {},
   "outputs": [],
   "source": [
    "cv2.imshow('thresh',thresh)\n",
    "cv2.imshow('imgray',imgray)\n",
    "cv2.waitKey(0)\n",
    "cv2.destroyAllWindows()"
   ]
  },
  {
   "cell_type": "code",
   "execution_count": 68,
   "metadata": {},
   "outputs": [],
   "source": [
    "kernel = np.ones((5,5),np.uint8)\n",
    "closing = cv2.morphologyEx(thresh, cv2.MORPH_OPEN, kernel)"
   ]
  },
  {
   "cell_type": "code",
   "execution_count": 69,
   "metadata": {},
   "outputs": [],
   "source": [
    "cv2.imshow('thresh',thresh)\n",
    "cv2.imshow('closing',closing)\n",
    "cv2.waitKey(0)\n",
    "cv2.destroyAllWindows()"
   ]
  },
  {
   "cell_type": "code",
   "execution_count": 70,
   "metadata": {},
   "outputs": [],
   "source": [
    "contours, hierarchy = cv2.findContours(closing,cv2.RETR_TREE,cv2.CHAIN_APPROX_SIMPLE)"
   ]
  },
  {
   "cell_type": "code",
   "execution_count": 71,
   "metadata": {},
   "outputs": [],
   "source": [
    "img = cv2.imread('hand.jpg')\n",
    "img = cv2.drawContours(img, contours, -1,(0,255,0), 3)"
   ]
  },
  {
   "cell_type": "code",
   "execution_count": 72,
   "metadata": {},
   "outputs": [],
   "source": [
    "cv2.imshow('contours',img)\n",
    "cv2.waitKey(0)\n",
    "cv2.destroyAllWindows()"
   ]
  },
  {
   "cell_type": "code",
   "execution_count": 73,
   "metadata": {},
   "outputs": [],
   "source": [
    "cnt = contours[0]\n",
    "epsilon = 0.001*cv2.arcLength(cnt,True)\n",
    "approx = cv2.approxPolyDP(cnt,epsilon,True)\n",
    "img = cv2.imread('hand.jpg')"
   ]
  },
  {
   "cell_type": "code",
   "execution_count": 74,
   "metadata": {},
   "outputs": [],
   "source": [
    "img = cv2.drawContours(img, [approx], -1,(0,255,0), 3)"
   ]
  },
  {
   "cell_type": "code",
   "execution_count": 75,
   "metadata": {},
   "outputs": [],
   "source": [
    "cv2.imshow('contours',img)\n",
    "cv2.waitKey(0)\n",
    "cv2.destroyAllWindows()"
   ]
  },
  {
   "cell_type": "code",
   "execution_count": 76,
   "metadata": {},
   "outputs": [],
   "source": [
    "hull = cv2.convexHull(approx)"
   ]
  },
  {
   "cell_type": "code",
   "execution_count": 79,
   "metadata": {},
   "outputs": [],
   "source": [
    "img = cv2.drawContours(img, [hull], -1,(0,0,255), 3)"
   ]
  },
  {
   "cell_type": "code",
   "execution_count": 80,
   "metadata": {},
   "outputs": [],
   "source": [
    "cv2.imshow('contours',img)\n",
    "cv2.waitKey(0)\n",
    "cv2.destroyAllWindows()"
   ]
  },
  {
   "cell_type": "code",
   "execution_count": 91,
   "metadata": {},
   "outputs": [],
   "source": [
    "x,y,w,h = cv2.boundingRect(cnt)\n",
    "img = cv2.rectangle(img,(x,y),(x+w,y+h),(255,0,0),2)"
   ]
  },
  {
   "cell_type": "code",
   "execution_count": 92,
   "metadata": {},
   "outputs": [],
   "source": [
    "cv2.imshow('contours',img)\n",
    "cv2.waitKey(0)\n",
    "cv2.destroyAllWindows()"
   ]
  },
  {
   "cell_type": "code",
   "execution_count": 88,
   "metadata": {},
   "outputs": [],
   "source": [
    "#img = cv2.imread('hand.jpg')\n",
    "rect = cv2.minAreaRect(cnt)\n",
    "box = cv2.boxPoints(rect)\n",
    "box = np.int0(box)\n",
    "img = cv2.drawContours(img,[box],0,(0,0,255),2)\n"
   ]
  },
  {
   "cell_type": "code",
   "execution_count": 90,
   "metadata": {},
   "outputs": [],
   "source": [
    "cv2.imshow('contours',img)\n",
    "cv2.waitKey(0)\n",
    "cv2.destroyAllWindows()"
   ]
  },
  {
   "cell_type": "code",
   "execution_count": 16,
   "metadata": {},
   "outputs": [],
   "source": []
  },
  {
   "cell_type": "markdown",
   "metadata": {},
   "source": [
    "## MOMENTS"
   ]
  },
  {
   "cell_type": "code",
   "execution_count": 17,
   "metadata": {},
   "outputs": [
    {
     "name": "stdout",
     "output_type": "stream",
     "text": [
      "{'m00': 5315.5, 'm10': 1737024.0, 'm01': 2869783.1666666665, 'm20': 572036772.75, 'm11': 937722810.4583333, 'm02': 1550536368.5833333, 'm30': 189810902008.1, 'm21': 308777172041.3333, 'm12': 506607296777.5333, 'm03': 838384406215.75, 'mu20': 4403929.823464394, 'mu11': -78381.39492595196, 'mu02': 1170283.7966980934, 'mu30': -228975.7477722168, 'mu21': -8304475.268248081, 'mu12': 390581.19825309515, 'mu03': 2298917.3048095703, 'nu20': 0.15586627085409374, 'nu11': -0.0027741168050310766, 'nu02': 0.04141931832347169, 'nu30': -0.00011115504523919455, 'nu21': -0.00403136285441096, 'nu12': 0.00018960554200085227, 'nu03': 0.0011159970411865642}\n"
     ]
    }
   ],
   "source": [
    "cnt = contours[0]\n",
    "M = cv2.moments(cnt)\n",
    "print(M)"
   ]
  },
  {
   "cell_type": "code",
   "execution_count": 18,
   "metadata": {},
   "outputs": [],
   "source": [
    "cx = int(M['m10']/M['m00'])\n",
    "cy = int(M['m01']/M['m00'])"
   ]
  },
  {
   "cell_type": "code",
   "execution_count": 19,
   "metadata": {},
   "outputs": [],
   "source": [
    "area = cv2.contourArea(cnt)"
   ]
  },
  {
   "cell_type": "code",
   "execution_count": 20,
   "metadata": {},
   "outputs": [],
   "source": [
    "perimeter = cv2.arcLength(cnt,True)"
   ]
  },
  {
   "cell_type": "code",
   "execution_count": 29,
   "metadata": {},
   "outputs": [
    {
     "data": {
      "text/plain": [
       "array([[[247, 247, 247],\n",
       "        [247, 247, 247],\n",
       "        [247, 247, 247],\n",
       "        ...,\n",
       "        [247, 247, 247],\n",
       "        [247, 247, 247],\n",
       "        [247, 247, 247]],\n",
       "\n",
       "       [[247, 247, 247],\n",
       "        [247, 247, 247],\n",
       "        [247, 247, 247],\n",
       "        ...,\n",
       "        [247, 247, 247],\n",
       "        [247, 247, 247],\n",
       "        [247, 247, 247]],\n",
       "\n",
       "       [[247, 247, 247],\n",
       "        [247, 247, 247],\n",
       "        [247, 247, 247],\n",
       "        ...,\n",
       "        [247, 247, 247],\n",
       "        [247, 247, 247],\n",
       "        [247, 247, 247]],\n",
       "\n",
       "       ...,\n",
       "\n",
       "       [[247, 247, 247],\n",
       "        [247, 247, 247],\n",
       "        [247, 247, 247],\n",
       "        ...,\n",
       "        [247, 247, 247],\n",
       "        [247, 247, 247],\n",
       "        [247, 247, 247]],\n",
       "\n",
       "       [[247, 247, 247],\n",
       "        [247, 247, 247],\n",
       "        [247, 247, 247],\n",
       "        ...,\n",
       "        [247, 247, 247],\n",
       "        [247, 247, 247],\n",
       "        [247, 247, 247]],\n",
       "\n",
       "       [[247, 247, 247],\n",
       "        [247, 247, 247],\n",
       "        [247, 247, 247],\n",
       "        ...,\n",
       "        [247, 247, 247],\n",
       "        [247, 247, 247],\n",
       "        [247, 247, 247]]], dtype=uint8)"
      ]
     },
     "execution_count": 29,
     "metadata": {},
     "output_type": "execute_result"
    }
   ],
   "source": [
    "img = cv2.circle(img,(cx,cy), 1, (0,0,255), -1)\n",
    "font = cv2.FONT_HERSHEY_SIMPLEX\n",
    "msg = \"A\"+str(area)+\"L\"+str(perimeter)\n",
    "cv2.putText(img,msg,(cx,cy),font,1,(32,32,32),2,cv2.LINE_AA)"
   ]
  },
  {
   "cell_type": "code",
   "execution_count": 30,
   "metadata": {},
   "outputs": [],
   "source": [
    "cv2.imshow('contours',img)\n",
    "cv2.waitKey(0)\n",
    "cv2.destroyAllWindows()"
   ]
  },
  {
   "cell_type": "code",
   "execution_count": null,
   "metadata": {},
   "outputs": [],
   "source": []
  }
 ],
 "metadata": {
  "kernelspec": {
   "display_name": "Python 3",
   "language": "python",
   "name": "python3"
  },
  "language_info": {
   "codemirror_mode": {
    "name": "ipython",
    "version": 3
   },
   "file_extension": ".py",
   "mimetype": "text/x-python",
   "name": "python",
   "nbconvert_exporter": "python",
   "pygments_lexer": "ipython3",
   "version": "3.8.3"
  }
 },
 "nbformat": 4,
 "nbformat_minor": 4
}
