{
 "cells": [
  {
   "cell_type": "markdown",
   "metadata": {},
   "source": [
    "# 1.4.4 Smoothing Images"
   ]
  },
  {
   "cell_type": "markdown",
   "metadata": {},
   "source": [
    "## Kernel Convolution"
   ]
  },
  {
   "cell_type": "code",
   "execution_count": 1,
   "metadata": {},
   "outputs": [],
   "source": [
    "import cv2\n",
    "import numpy as np\n",
    "from matplotlib import pyplot as plt"
   ]
  },
  {
   "cell_type": "code",
   "execution_count": 2,
   "metadata": {},
   "outputs": [],
   "source": [
    "l=1\n",
    "kernel = np.array([[0,-1,0],[-1,4,-1],[0,-1,0]],np.float32)"
   ]
  },
  {
   "cell_type": "code",
   "execution_count": 3,
   "metadata": {},
   "outputs": [
    {
     "data": {
      "text/plain": [
       "array([[ 0., -1.,  0.],\n",
       "       [-1.,  4., -1.],\n",
       "       [ 0., -1.,  0.]], dtype=float32)"
      ]
     },
     "execution_count": 3,
     "metadata": {},
     "output_type": "execute_result"
    }
   ],
   "source": [
    "kernel"
   ]
  },
  {
   "cell_type": "code",
   "execution_count": 4,
   "metadata": {},
   "outputs": [],
   "source": [
    "img = np.random.randint(10, size=(12,12))\n",
    "#img = np.ones((10,10),np.float32)"
   ]
  },
  {
   "cell_type": "code",
   "execution_count": 5,
   "metadata": {},
   "outputs": [
    {
     "data": {
      "text/plain": [
       "array([[8, 7, 9, 8, 7, 2, 0, 7, 2, 1, 2, 2],\n",
       "       [7, 0, 0, 8, 6, 9, 0, 1, 9, 9, 2, 4],\n",
       "       [0, 4, 3, 7, 0, 6, 4, 4, 3, 8, 0, 8],\n",
       "       [9, 0, 5, 5, 5, 7, 8, 7, 0, 9, 1, 6],\n",
       "       [3, 0, 8, 2, 5, 0, 0, 7, 7, 0, 2, 2],\n",
       "       [7, 0, 3, 1, 4, 2, 6, 4, 8, 7, 3, 2],\n",
       "       [9, 1, 2, 1, 1, 4, 3, 3, 9, 3, 2, 7],\n",
       "       [4, 7, 0, 1, 4, 1, 3, 0, 2, 5, 0, 4],\n",
       "       [6, 7, 4, 2, 3, 8, 9, 0, 9, 3, 6, 4],\n",
       "       [9, 6, 7, 3, 9, 0, 3, 6, 2, 4, 7, 5],\n",
       "       [1, 4, 1, 7, 9, 6, 0, 7, 0, 9, 8, 0],\n",
       "       [3, 5, 8, 6, 2, 7, 4, 0, 5, 0, 0, 5]])"
      ]
     },
     "execution_count": 5,
     "metadata": {},
     "output_type": "execute_result"
    }
   ],
   "source": [
    "img"
   ]
  },
  {
   "cell_type": "code",
   "execution_count": 6,
   "metadata": {},
   "outputs": [],
   "source": [
    "h,w=img.shape"
   ]
  },
  {
   "cell_type": "code",
   "execution_count": 7,
   "metadata": {},
   "outputs": [
    {
     "name": "stdout",
     "output_type": "stream",
     "text": [
      "12 12\n"
     ]
    }
   ],
   "source": [
    "print(h,w)"
   ]
  },
  {
   "cell_type": "code",
   "execution_count": 8,
   "metadata": {},
   "outputs": [],
   "source": [
    "#[*range(-2,3)]"
   ]
  },
  {
   "cell_type": "code",
   "execution_count": 9,
   "metadata": {},
   "outputs": [],
   "source": [
    "dst = np.zeros((h,w),np.int)"
   ]
  },
  {
   "cell_type": "code",
   "execution_count": 10,
   "metadata": {},
   "outputs": [],
   "source": [
    "for i in range(l,h-l):\n",
    "    for j in range(l,w-l):\n",
    "        t=0\n",
    "        for p in range(-l,l+1):\n",
    "            for q in range(-l,l+1):\n",
    "                t += kernel[p+l,q+l]*img[i+p,j+q]\n",
    "        dst[i,j]=t        "
   ]
  },
  {
   "cell_type": "code",
   "execution_count": 11,
   "metadata": {},
   "outputs": [
    {
     "data": {
      "text/plain": [
       "array([[8, 7, 9, 8, 7, 2, 0, 7, 2, 1, 2, 2],\n",
       "       [7, 0, 0, 8, 6, 9, 0, 1, 9, 9, 2, 4],\n",
       "       [0, 4, 3, 7, 0, 6, 4, 4, 3, 8, 0, 8],\n",
       "       [9, 0, 5, 5, 5, 7, 8, 7, 0, 9, 1, 6],\n",
       "       [3, 0, 8, 2, 5, 0, 0, 7, 7, 0, 2, 2],\n",
       "       [7, 0, 3, 1, 4, 2, 6, 4, 8, 7, 3, 2],\n",
       "       [9, 1, 2, 1, 1, 4, 3, 3, 9, 3, 2, 7],\n",
       "       [4, 7, 0, 1, 4, 1, 3, 0, 2, 5, 0, 4],\n",
       "       [6, 7, 4, 2, 3, 8, 9, 0, 9, 3, 6, 4],\n",
       "       [9, 6, 7, 3, 9, 0, 3, 6, 2, 4, 7, 5],\n",
       "       [1, 4, 1, 7, 9, 6, 0, 7, 0, 9, 8, 0],\n",
       "       [3, 5, 8, 6, 2, 7, 4, 0, 5, 0, 0, 5]])"
      ]
     },
     "execution_count": 11,
     "metadata": {},
     "output_type": "execute_result"
    }
   ],
   "source": [
    "img"
   ]
  },
  {
   "cell_type": "code",
   "execution_count": 12,
   "metadata": {},
   "outputs": [
    {
     "data": {
      "text/plain": [
       "array([[  0,   0,   0,   0,   0,   0,   0,   0,   0,   0,   0,   0],\n",
       "       [  0, -18, -20,  11,   0,  22, -14, -16,  21,  16,  -7,   0],\n",
       "       [  0,  13,  -4,  12, -24,   4,  -2,   1,  -9,  11, -19,   0],\n",
       "       [  0, -18,   4,   1,   3,   9,  14,   9, -26,  27, -13,   0],\n",
       "       [  0, -11,  22, -11,   9, -14, -21,  10,  13, -25,   2,   0],\n",
       "       [  0, -11,   1,  -6,   7,  -6,  15,  -8,   5,  14,  -1,   0],\n",
       "       [  0, -14,   3,  -1,  -9,   9,  -4,  -4,  20, -11,  -5,   0],\n",
       "       [  0,  16, -14,  -3,  10, -15,  -1,  -8, -15,  12, -17,   0],\n",
       "       [  0,   5,   0,  -3, -11,  19,  22, -24,  29, -12,  10,   0],\n",
       "       [  0,  -3,  14, -13,  21, -26,  -3,  12, -11,  -5,   5,   0],\n",
       "       [  0,   3, -22,   9,  12,   8, -20,  22, -23,  24,  16,   0],\n",
       "       [  0,   0,   0,   0,   0,   0,   0,   0,   0,   0,   0,   0]])"
      ]
     },
     "execution_count": 12,
     "metadata": {},
     "output_type": "execute_result"
    }
   ],
   "source": [
    "dst"
   ]
  },
  {
   "cell_type": "code",
   "execution_count": 16,
   "metadata": {},
   "outputs": [],
   "source": [
    "img = cv2.imread('lena.png', 0)"
   ]
  },
  {
   "cell_type": "code",
   "execution_count": 17,
   "metadata": {},
   "outputs": [],
   "source": [
    "h,w=img.shape"
   ]
  },
  {
   "cell_type": "code",
   "execution_count": 18,
   "metadata": {},
   "outputs": [],
   "source": [
    "dst = np.zeros((h-2*l,w-2*l),np.uint8)"
   ]
  },
  {
   "cell_type": "code",
   "execution_count": 19,
   "metadata": {},
   "outputs": [],
   "source": [
    "for i in range(l,h-l):\n",
    "    for j in range(l,w-l):\n",
    "        t=0\n",
    "        for p in range(-l,l+1):\n",
    "            for q in range(-l,l+1):\n",
    "                t += kernel[p+l,q+l]*img[i+p,j+q]\n",
    "        dst[i-l,j-l]=t "
   ]
  },
  {
   "cell_type": "code",
   "execution_count": null,
   "metadata": {},
   "outputs": [],
   "source": [
    "cv2.imshow('img',img)\n",
    "cv2.imshow('dst',dst)\n",
    "cv2.waitKey(0)\n",
    "cv2.destroyAllWindows()"
   ]
  },
  {
   "cell_type": "code",
   "execution_count": null,
   "metadata": {},
   "outputs": [],
   "source": []
  }
 ],
 "metadata": {
  "kernelspec": {
   "display_name": "Python 3",
   "language": "python",
   "name": "python3"
  },
  "language_info": {
   "codemirror_mode": {
    "name": "ipython",
    "version": 3
   },
   "file_extension": ".py",
   "mimetype": "text/x-python",
   "name": "python",
   "nbconvert_exporter": "python",
   "pygments_lexer": "ipython3",
   "version": "3.8.3"
  }
 },
 "nbformat": 4,
 "nbformat_minor": 4
}
